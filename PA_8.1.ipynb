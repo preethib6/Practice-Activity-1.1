{
  "nbformat": 4,
  "nbformat_minor": 0,
  "metadata": {
    "colab": {
      "provenance": []
    },
    "kernelspec": {
      "name": "python3",
      "display_name": "Python 3"
    },
    "language_info": {
      "name": "python"
    }
  },
  "cells": [
    {
      "cell_type": "markdown",
      "source": [
        "# Palmer Penguins Modeling\n",
        "\n",
        "Import the Palmer Penguins dataset and print out the first few rows.\n",
        "\n",
        "Suppose we want to predict `species` using the other variables in the dataset.\n",
        "\n",
        "**Dummify** all variables that require this."
      ],
      "metadata": {
        "id": "TxbDFsJARAMD"
      }
    },
    {
      "cell_type": "code",
      "execution_count": 32,
      "metadata": {
        "id": "QV2uolyOQ65C"
      },
      "outputs": [],
      "source": [
        "# Code Here\n",
        "import pandas as pd\n",
        "from sklearn.pipeline import Pipeline\n",
        "from sklearn.metrics import (\n",
        "    confusion_matrix,\n",
        "    accuracy_score,\n",
        "    precision_recall_fscore_support,\n",
        "    roc_auc_score,\n",
        "    roc_curve\n",
        ")\n",
        "import matplotlib.pyplot as plt\n",
        "from sklearn.preprocessing import StandardScaler, LabelEncoder\n",
        "from sklearn.neighbors import KNeighborsClassifier\n",
        "from sklearn.tree import DecisionTreeClassifier\n",
        "from sklearn.linear_model import LogisticRegression\n",
        "from sklearn.model_selection import train_test_split\n",
        "from sklearn.metrics import classification_report\n",
        "import palmerpenguins as penguins\n",
        "\n",
        "penguins = penguins.load_penguins()\n",
        "penguins = penguins.dropna()\n",
        "\n",
        "#dummifying\n",
        "penguins = pd.get_dummies(penguins, columns=['island', 'sex'], drop_first=True, dtype=int)\n",
        "\n",
        "#encoding species variable (Adelie = 0, Gentoo = 2, Chinstrap = 1)\n",
        "label_encoder = LabelEncoder()\n",
        "penguins['species'] = label_encoder.fit_transform(penguins['species'])\n"
      ]
    },
    {
      "cell_type": "code",
      "source": [
        "X = penguins.drop(columns=['species'])\n",
        "y = penguins['species']\n",
        "\n",
        "X_train, X_test, y_train, y_test = train_test_split(\n",
        "    X, y, test_size=0.25, random_state=42, stratify=y\n",
        ")\n",
        "scaler = StandardScaler()\n",
        "X_train_scaled = scaler.fit_transform(X_train)\n",
        "X_test_scaled = scaler.transform(X_test)\n",
        "\n",
        "# kNN model with k=3\n",
        "knn1 = KNeighborsClassifier(n_neighbors=3)\n",
        "knn1.fit(X_train_scaled, y_train)\n",
        "y_pred_knn1 = knn1.predict(X_test_scaled)\n",
        "\n",
        "# kNN model with k=7\n",
        "knn2 = KNeighborsClassifier(n_neighbors=7)\n",
        "knn2.fit(X_train_scaled, y_train)\n",
        "y_pred_knn2 = knn2.predict(X_test_scaled)"
      ],
      "metadata": {
        "id": "sH9KGVJe49n8"
      },
      "execution_count": 37,
      "outputs": []
    },
    {
      "cell_type": "code",
      "source": [
        "# Decision Tree with max depth of 3\n",
        "tree1 = DecisionTreeClassifier(max_depth=3, random_state=42)\n",
        "tree1.fit(X_train, y_train)\n",
        "y_pred_tree1 = tree1.predict(X_test)\n",
        "\n",
        "# Decision Tree with max depth of 5\n",
        "tree2 = DecisionTreeClassifier(max_depth=5, random_state=42)\n",
        "tree2.fit(X_train, y_train)\n",
        "y_pred_tree2 = tree2.predict(X_test)"
      ],
      "metadata": {
        "id": "1m5Vt8_L5bmt"
      },
      "execution_count": 38,
      "outputs": []
    },
    {
      "cell_type": "code",
      "source": [
        "# evaluating knn model 1\n",
        "print(\"KNN Model 1\")\n",
        "\n",
        "y_pred_knn1 = knn1.predict(X_test_scaled)\n",
        "y_prob_knn1 = knn1.predict_proba(X_test_scaled)\n",
        "\n",
        "cm = confusion_matrix(y_test, y_pred_knn1)\n",
        "print(\"Confusion Matrix:\")\n",
        "print(cm)\n",
        "\n",
        "accuracy = accuracy_score(y_test, y_pred_knn1)\n",
        "print(\"\\nOverall Accuracy:\", accuracy)\n",
        "\n",
        "precision, recall, f1, _ = precision_recall_fscore_support(y_test, y_pred_knn1, average=None)\n",
        "print(\"\\nPer-Class Precision:\", precision)\n",
        "print(\"Per-Class Recall:\", recall)\n",
        "print(\"Per-Class F1-Score:\", f1)\n",
        "\n",
        "roc_auc = roc_auc_score(pd.get_dummies(y_test), y_prob_knn1, multi_class='ovr')\n",
        "print(\"\\nROC AUC Score:\", roc_auc)\n",
        "\n",
        "# evaluating knn model 2\n",
        "print(\"------------\")\n",
        "print(\"KNN Model 2\")\n",
        "\n",
        "y_pred_knn2 = knn2.predict(X_test_scaled)\n",
        "y_prob_knn2 = knn2.predict_proba(X_test_scaled)\n",
        "\n",
        "cm = confusion_matrix(y_test, y_pred_knn2)\n",
        "print(\"Confusion Matrix:\")\n",
        "print(cm)\n",
        "\n",
        "accuracy = accuracy_score(y_test, y_pred_knn2)\n",
        "print(\"\\nOverall Accuracy:\", accuracy)\n",
        "\n",
        "precision, recall, f1, _ = precision_recall_fscore_support(y_test, y_pred_knn2, average=None)\n",
        "print(\"\\nPer-Class Precision:\", precision)\n",
        "print(\"Per-Class Recall:\", recall)\n",
        "print(\"Per-Class F1-Score:\", f1)\n",
        "\n",
        "roc_auc = roc_auc_score(pd.get_dummies(y_test), y_prob_knn2, multi_class='ovr')\n",
        "print(\"\\nROC AUC Score:\", roc_auc)"
      ],
      "metadata": {
        "colab": {
          "base_uri": "https://localhost:8080/"
        },
        "id": "oHp8QHt753e3",
        "outputId": "37db069b-c41b-47a2-f55f-3a3d7c07e5e7"
      },
      "execution_count": 46,
      "outputs": [
        {
          "output_type": "stream",
          "name": "stdout",
          "text": [
            "KNN Model 1\n",
            "Confusion Matrix:\n",
            "[[36  1  0]\n",
            " [ 1 16  0]\n",
            " [ 0  0 30]]\n",
            "\n",
            "Overall Accuracy: 0.9761904761904762\n",
            "\n",
            "Per-Class Precision: [0.97297297 0.94117647 1.        ]\n",
            "Per-Class Recall: [0.97297297 0.94117647 1.        ]\n",
            "Per-Class F1-Score: [0.97297297 0.94117647 1.        ]\n",
            "\n",
            "ROC AUC Score: 0.9995156645820722\n",
            "------------\n",
            "KNN Model 2\n",
            "Confusion Matrix:\n",
            "[[37  0  0]\n",
            " [ 0 17  0]\n",
            " [ 0  0 30]]\n",
            "\n",
            "Overall Accuracy: 1.0\n",
            "\n",
            "Per-Class Precision: [1. 1. 1.]\n",
            "Per-Class Recall: [1. 1. 1.]\n",
            "Per-Class F1-Score: [1. 1. 1.]\n",
            "\n",
            "ROC AUC Score: 1.0\n"
          ]
        }
      ]
    },
    {
      "cell_type": "code",
      "source": [
        "# evaluating decision tree model 1\n",
        "\n",
        "print(\"Tree Model 1\")\n",
        "\n",
        "y_pred_tree1 = tree1.predict(X_test)\n",
        "y_prob_tree1 = tree1.predict_proba(X_test)\n",
        "\n",
        "cm = confusion_matrix(y_test, y_pred_tree1)\n",
        "print(\"Confusion Matrix:\")\n",
        "print(cm)\n",
        "\n",
        "accuracy = accuracy_score(y_test, y_pred_tree1)\n",
        "print(\"\\nOverall Accuracy:\", accuracy)\n",
        "\n",
        "precision, recall, f1, _ = precision_recall_fscore_support(y_test, y_pred_tree1, average=None)\n",
        "print(\"\\nPer-Class Precision:\", precision)\n",
        "print(\"Per-Class Recall:\", recall)\n",
        "print(\"Per-Class F1-Score:\", f1)\n",
        "\n",
        "roc_auc = roc_auc_score(pd.get_dummies(y_test), y_prob_tree1, multi_class='ovr')\n",
        "print(\"\\nROC AUC Score:\", roc_auc)\n",
        "\n",
        "# evaluating decision tree model 2\n",
        "print(\"-------------\")\n",
        "\n",
        "print(\"Tree Model 2\")\n",
        "\n",
        "y_pred_tree2 = tree2.predict(X_test)\n",
        "y_prob_tree2 = tree2.predict_proba(X_test)\n",
        "\n",
        "cm = confusion_matrix(y_test, y_pred_tree2)\n",
        "print(\"Confusion Matrix:\")\n",
        "print(cm)\n",
        "\n",
        "accuracy = accuracy_score(y_test, y_pred_tree2)\n",
        "print(\"\\nOverall Accuracy:\", accuracy)\n",
        "\n",
        "precision, recall, f1, _ = precision_recall_fscore_support(y_test, y_pred_tree2, average=None)\n",
        "print(\"\\nPer-Class Precision:\", precision)\n",
        "print(\"Per-Class Recall:\", recall)\n",
        "print(\"Per-Class F1-Score:\", f1)\n",
        "\n",
        "roc_auc = roc_auc_score(pd.get_dummies(y_test), y_prob_tree2, multi_class='ovr')\n",
        "print(\"\\nROC AUC Score:\", roc_auc)\n"
      ],
      "metadata": {
        "colab": {
          "base_uri": "https://localhost:8080/"
        },
        "id": "KkRUIjCC7WEG",
        "outputId": "92022809-af6f-4f02-e9c0-e7d71748e3a3"
      },
      "execution_count": 49,
      "outputs": [
        {
          "output_type": "stream",
          "name": "stdout",
          "text": [
            "Tree Model 1\n",
            "Confusion Matrix:\n",
            "[[37  0  0]\n",
            " [ 1 16  0]\n",
            " [ 2  0 28]]\n",
            "\n",
            "Overall Accuracy: 0.9642857142857143\n",
            "\n",
            "Per-Class Precision: [0.925 1.    1.   ]\n",
            "Per-Class Recall: [1.         0.94117647 0.93333333]\n",
            "Per-Class F1-Score: [0.96103896 0.96969697 0.96551724]\n",
            "\n",
            "ROC AUC Score: 0.9741696696416215\n",
            "-------------\n",
            "Tree Model 2\n",
            "Confusion Matrix:\n",
            "[[34  3  0]\n",
            " [ 0 17  0]\n",
            " [ 2  0 28]]\n",
            "\n",
            "Overall Accuracy: 0.9404761904761905\n",
            "\n",
            "Per-Class Precision: [0.94444444 0.85       1.        ]\n",
            "Per-Class Recall: [0.91891892 1.         0.93333333]\n",
            "Per-Class F1-Score: [0.93150685 0.91891892 0.96551724]\n",
            "\n",
            "ROC AUC Score: 0.9608204902266508\n"
          ]
        }
      ]
    },
    {
      "cell_type": "markdown",
      "source": [
        "Let's use the other variables to predict `species`. Prepare your data and fit the following models on the entire dataset:\n",
        "\n",
        "* Two kNN models (for different values of K)\n",
        "* Two decision tree models (for different complexities of trees)\n",
        "\n",
        "Compute the following, for each of your models, on test data. Keep in mind that you may need to stratify your creation of the training and test data.\n",
        "\n",
        "* Confusion matrix\n",
        "* Overall Accuracy\n",
        "* Precision, Recall, AUC, and F1-score for each species\n",
        "\n",
        "Create one ROC plot for the species of your choice."
      ],
      "metadata": {
        "id": "HecNBVAnRHod"
      }
    },
    {
      "cell_type": "code",
      "source": [
        "auc = roc_auc_score(y_test, y_prob_knn2, multi_class='ovr')\n",
        "print(\"\\nOverall AUC:\", auc)\n",
        "\n",
        "species_index = 0  # Choose the species for which to plot ROC\n",
        "fpr, tpr, _ = roc_curve(y_test == species_index, y_prob_knn2[:, species_index])\n",
        "\n",
        "# Plotting the ROC Curve\n",
        "plt.figure()\n",
        "plt.plot(fpr, tpr, label=f\"ROC for Species {species_index} (AUC = {auc:.2f})\")\n",
        "plt.xlabel(\"False Positive Rate\")\n",
        "plt.ylabel(\"True Positive Rate\")\n",
        "plt.title(\"ROC Curve\")\n",
        "plt.legend()\n",
        "plt.show()"
      ],
      "metadata": {
        "id": "U1onRGJQR8T_",
        "colab": {
          "base_uri": "https://localhost:8080/",
          "height": 508
        },
        "outputId": "5513892c-ff0b-4a4d-9199-3d8b3cda5171"
      },
      "execution_count": 54,
      "outputs": [
        {
          "output_type": "stream",
          "name": "stdout",
          "text": [
            "\n",
            "Overall AUC: 1.0\n"
          ]
        },
        {
          "output_type": "display_data",
          "data": {
            "text/plain": [
              "<Figure size 640x480 with 1 Axes>"
            ],
            "image/png": "[encoded data removed]"
          },
          "metadata": {}
        }
      ]
    }
  ]
}