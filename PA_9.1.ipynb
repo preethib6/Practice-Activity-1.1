{
  "nbformat": 4,
  "nbformat_minor": 0,
  "metadata": {
    "colab": {
      "provenance": []
    },
    "kernelspec": {
      "name": "python3",
      "display_name": "Python 3"
    },
    "language_info": {
      "name": "python"
    }
  },
  "cells": [
    {
      "cell_type": "markdown",
      "source": [
        "## The Data\n",
        "\n",
        "At this link, you will find a dataset containing information about heart disease patients: https://www.dropbox.com/scl/fi/0vrpdnq5asmeulc4gd50y/ha_1.csv?rlkey=ciisalceotl77ffqhqe3kujzv&dl=1\n",
        "\n",
        "A description of the original dataset can be found here: https://archive.ics.uci.edu/dataset/45/heart+disease (However, this dataset has been cleaned and reduced, and the people have been given fictious names.)"
      ],
      "metadata": {
        "id": "F9uql3um69hP"
      }
    },
    {
      "cell_type": "markdown",
      "source": [
        "## 1. Logistic Regression\n",
        "\n",
        "Fit a Logistic Regression using only `age` and `chol` (cholesterol) as predictors.\n",
        "\n",
        "For a 55 year old, how high would their cholesterol need to be for the doctors to predict heart disease is present?\n",
        "\n",
        "How high for the doctors to estimate a 90% chance that heart disease is present?"
      ],
      "metadata": {
        "id": "O6wa9AzG7xHW"
      }
    },
    {
      "cell_type": "code",
      "execution_count": 21,
      "metadata": {
        "id": "jc13Bmcr6Rzz",
        "colab": {
          "base_uri": "https://localhost:8080/",
          "height": 206
        },
        "outputId": "e01f5e37-b136-4bd3-bd87-6cfc17eef057"
      },
      "outputs": [
        {
          "output_type": "execute_result",
          "data": {
            "text/plain": [
              "                       Name  age  sex  cp  trtbps  chol  restecg  thalach  \\\n",
              "0           Magnolia Cassin   60    1   1     117   230        1      160   \n",
              "1     Dr. Cathern Heathcote   60    0   3     102   318        1      160   \n",
              "2                Miles Wolf   62    0   3     130   263        1       97   \n",
              "3             Mikaila Block   43    1   1     115   303        1      181   \n",
              "4  Mrs. Jacquline Marquardt   66    1   1     120   302        0      151   \n",
              "\n",
              "    diagnosis  \n",
              "0  No Disease  \n",
              "1     Disease  \n",
              "2  No Disease  \n",
              "3     Disease  \n",
              "4     Disease  "
            ],
            "text/html": [
              "\n",
              "  <div id=\"df-bd5a5dc4-f8aa-4fd6-9975-235f8653c8d4\" class=\"colab-df-container\">\n",
              "    <div>\n",
              "<style scoped>\n",
              "    .dataframe tbody tr th:only-of-type {\n",
              "        vertical-align: middle;\n",
              "    }\n",
              "\n",
              "    .dataframe tbody tr th {\n",
              "        vertical-align: top;\n",
              "    }\n",
              "\n",
              "    .dataframe thead th {\n",
              "        text-align: right;\n",
              "    }\n",
              "</style>\n",
              "<table border=\"1\" class=\"dataframe\">\n",
              "  <thead>\n",
              "    <tr style=\"text-align: right;\">\n",
              "      <th></th>\n",
              "      <th>Name</th>\n",
              "      <th>age</th>\n",
              "      <th>sex</th>\n",
              "      <th>cp</th>\n",
              "      <th>trtbps</th>\n",
              "      <th>chol</th>\n",
              "      <th>restecg</th>\n",
              "      <th>thalach</th>\n",
              "      <th>diagnosis</th>\n",
              "    </tr>\n",
              "  </thead>\n",
              "  <tbody>\n",
              "    <tr>\n",
              "      <th>0</th>\n",
              "      <td>Magnolia Cassin</td>\n",
              "      <td>60</td>\n",
              "      <td>1</td>\n",
              "      <td>1</td>\n",
              "      <td>117</td>\n",
              "      <td>230</td>\n",
              "      <td>1</td>\n",
              "      <td>160</td>\n",
              "      <td>No Disease</td>\n",
              "    </tr>\n",
              "    <tr>\n",
              "      <th>1</th>\n",
              "      <td>Dr. Cathern Heathcote</td>\n",
              "      <td>60</td>\n",
              "      <td>0</td>\n",
              "      <td>3</td>\n",
              "      <td>102</td>\n",
              "      <td>318</td>\n",
              "      <td>1</td>\n",
              "      <td>160</td>\n",
              "      <td>Disease</td>\n",
              "    </tr>\n",
              "    <tr>\n",
              "      <th>2</th>\n",
              "      <td>Miles Wolf</td>\n",
              "      <td>62</td>\n",
              "      <td>0</td>\n",
              "      <td>3</td>\n",
              "      <td>130</td>\n",
              "      <td>263</td>\n",
              "      <td>1</td>\n",
              "      <td>97</td>\n",
              "      <td>No Disease</td>\n",
              "    </tr>\n",
              "    <tr>\n",
              "      <th>3</th>\n",
              "      <td>Mikaila Block</td>\n",
              "      <td>43</td>\n",
              "      <td>1</td>\n",
              "      <td>1</td>\n",
              "      <td>115</td>\n",
              "      <td>303</td>\n",
              "      <td>1</td>\n",
              "      <td>181</td>\n",
              "      <td>Disease</td>\n",
              "    </tr>\n",
              "    <tr>\n",
              "      <th>4</th>\n",
              "      <td>Mrs. Jacquline Marquardt</td>\n",
              "      <td>66</td>\n",
              "      <td>1</td>\n",
              "      <td>1</td>\n",
              "      <td>120</td>\n",
              "      <td>302</td>\n",
              "      <td>0</td>\n",
              "      <td>151</td>\n",
              "      <td>Disease</td>\n",
              "    </tr>\n",
              "  </tbody>\n",
              "</table>\n",
              "</div>\n",
              "    <div class=\"colab-df-buttons\">\n",
              "\n",
              "  <div class=\"colab-df-container\">\n",
              "    <button class=\"colab-df-convert\" onclick=\"convertToInteractive('df-bd5a5dc4-f8aa-4fd6-9975-235f8653c8d4')\"\n",
              "            title=\"Convert this dataframe to an interactive table.\"\n",
              "            style=\"display:none;\">\n",
              "\n",
              "  <svg xmlns=\"http://www.w3.org/2000/svg\" height=\"24px\" viewBox=\"0 -960 960 960\">\n",
              "    <path d=\"M120-120v-720h720v720H120Zm60-500h600v-160H180v160Zm220 220h160v-160H400v160Zm0 220h160v-160H400v160ZM180-400h160v-160H180v160Zm440 0h160v-160H620v160ZM180-180h160v-160H180v160Zm440 0h160v-160H620v160Z\"/>\n",
              "  </svg>\n",
              "    </button>\n",
              "\n",
              "  <style>\n",
              "    .colab-df-container {\n",
              "      display:flex;\n",
              "      gap: 12px;\n",
              "    }\n",
              "\n",
              "    .colab-df-convert {\n",
              "      background-color: #E8F0FE;\n",
              "      border: none;\n",
              "      border-radius: 50%;\n",
              "      cursor: pointer;\n",
              "      display: none;\n",
              "      fill: #1967D2;\n",
              "      height: 32px;\n",
              "      padding: 0 0 0 0;\n",
              "      width: 32px;\n",
              "    }\n",
              "\n",
              "    .colab-df-convert:hover {\n",
              "      background-color: #E2EBFA;\n",
              "      box-shadow: 0px 1px 2px rgba(60, 64, 67, 0.3), 0px 1px 3px 1px rgba(60, 64, 67, 0.15);\n",
              "      fill: #174EA6;\n",
              "    }\n",
              "\n",
              "    .colab-df-buttons div {\n",
              "      margin-bottom: 4px;\n",
              "    }\n",
              "\n",
              "    [theme=dark] .colab-df-convert {\n",
              "      background-color: #3B4455;\n",
              "      fill: #D2E3FC;\n",
              "    }\n",
              "\n",
              "    [theme=dark] .colab-df-convert:hover {\n",
              "      background-color: #434B5C;\n",
              "      box-shadow: 0px 1px 3px 1px rgba(0, 0, 0, 0.15);\n",
              "      filter: drop-shadow(0px 1px 2px rgba(0, 0, 0, 0.3));\n",
              "      fill: #FFFFFF;\n",
              "    }\n",
              "  </style>\n",
              "\n",
              "    <script>\n",
              "      const buttonEl =\n",
              "        document.querySelector('#df-bd5a5dc4-f8aa-4fd6-9975-235f8653c8d4 button.colab-df-convert');\n",
              "      buttonEl.style.display =\n",
              "        google.colab.kernel.accessAllowed ? 'block' : 'none';\n",
              "\n",
              "      async function convertToInteractive(key) {\n",
              "        const element = document.querySelector('#df-bd5a5dc4-f8aa-4fd6-9975-235f8653c8d4');\n",
              "        const dataTable =\n",
              "          await google.colab.kernel.invokeFunction('convertToInteractive',\n",
              "                                                    [key], {});\n",
              "        if (!dataTable) return;\n",
              "\n",
              "        const docLinkHtml = 'Like what you see? Visit the ' +\n",
              "          '<a target=\"_blank\" href=https://colab.research.google.com/notebooks/data_table.ipynb>data table notebook</a>'\n",
              "          + ' to learn more about interactive tables.';\n",
              "        element.innerHTML = '';\n",
              "        dataTable['output_type'] = 'display_data';\n",
              "        await google.colab.output.renderOutput(dataTable, element);\n",
              "        const docLink = document.createElement('div');\n",
              "        docLink.innerHTML = docLinkHtml;\n",
              "        element.appendChild(docLink);\n",
              "      }\n",
              "    </script>\n",
              "  </div>\n",
              "\n",
              "\n",
              "<div id=\"df-13975b34-2228-45a4-ad98-c08652ed6fa9\">\n",
              "  <button class=\"colab-df-quickchart\" onclick=\"quickchart('df-13975b34-2228-45a4-ad98-c08652ed6fa9')\"\n",
              "            title=\"Suggest charts\"\n",
              "            style=\"display:none;\">\n",
              "\n",
              "<svg xmlns=\"http://www.w3.org/2000/svg\" height=\"24px\"viewBox=\"0 0 24 24\"\n",
              "     width=\"24px\">\n",
              "    <g>\n",
              "        <path d=\"M19 3H5c-1.1 0-2 .9-2 2v14c0 1.1.9 2 2 2h14c1.1 0 2-.9 2-2V5c0-1.1-.9-2-2-2zM9 17H7v-7h2v7zm4 0h-2V7h2v10zm4 0h-2v-4h2v4z\"/>\n",
              "    </g>\n",
              "</svg>\n",
              "  </button>\n",
              "\n",
              "<style>\n",
              "  .colab-df-quickchart {\n",
              "      --bg-color: #E8F0FE;\n",
              "      --fill-color: #1967D2;\n",
              "      --hover-bg-color: #E2EBFA;\n",
              "      --hover-fill-color: #174EA6;\n",
              "      --disabled-fill-color: #AAA;\n",
              "      --disabled-bg-color: #DDD;\n",
              "  }\n",
              "\n",
              "  [theme=dark] .colab-df-quickchart {\n",
              "      --bg-color: #3B4455;\n",
              "      --fill-color: #D2E3FC;\n",
              "      --hover-bg-color: #434B5C;\n",
              "      --hover-fill-color: #FFFFFF;\n",
              "      --disabled-bg-color: #3B4455;\n",
              "      --disabled-fill-color: #666;\n",
              "  }\n",
              "\n",
              "  .colab-df-quickchart {\n",
              "    background-color: var(--bg-color);\n",
              "    border: none;\n",
              "    border-radius: 50%;\n",
              "    cursor: pointer;\n",
              "    display: none;\n",
              "    fill: var(--fill-color);\n",
              "    height: 32px;\n",
              "    padding: 0;\n",
              "    width: 32px;\n",
              "  }\n",
              "\n",
              "  .colab-df-quickchart:hover {\n",
              "    background-color: var(--hover-bg-color);\n",
              "    box-shadow: 0 1px 2px rgba(60, 64, 67, 0.3), 0 1px 3px 1px rgba(60, 64, 67, 0.15);\n",
              "    fill: var(--button-hover-fill-color);\n",
              "  }\n",
              "\n",
              "  .colab-df-quickchart-complete:disabled,\n",
              "  .colab-df-quickchart-complete:disabled:hover {\n",
              "    background-color: var(--disabled-bg-color);\n",
              "    fill: var(--disabled-fill-color);\n",
              "    box-shadow: none;\n",
              "  }\n",
              "\n",
              "  .colab-df-spinner {\n",
              "    border: 2px solid var(--fill-color);\n",
              "    border-color: transparent;\n",
              "    border-bottom-color: var(--fill-color);\n",
              "    animation:\n",
              "      spin 1s steps(1) infinite;\n",
              "  }\n",
              "\n",
              "  @keyframes spin {\n",
              "    0% {\n",
              "      border-color: transparent;\n",
              "      border-bottom-color: var(--fill-color);\n",
              "      border-left-color: var(--fill-color);\n",
              "    }\n",
              "    20% {\n",
              "      border-color: transparent;\n",
              "      border-left-color: var(--fill-color);\n",
              "      border-top-color: var(--fill-color);\n",
              "    }\n",
              "    30% {\n",
              "      border-color: transparent;\n",
              "      border-left-color: var(--fill-color);\n",
              "      border-top-color: var(--fill-color);\n",
              "      border-right-color: var(--fill-color);\n",
              "    }\n",
              "    40% {\n",
              "      border-color: transparent;\n",
              "      border-right-color: var(--fill-color);\n",
              "      border-top-color: var(--fill-color);\n",
              "    }\n",
              "    60% {\n",
              "      border-color: transparent;\n",
              "      border-right-color: var(--fill-color);\n",
              "    }\n",
              "    80% {\n",
              "      border-color: transparent;\n",
              "      border-right-color: var(--fill-color);\n",
              "      border-bottom-color: var(--fill-color);\n",
              "    }\n",
              "    90% {\n",
              "      border-color: transparent;\n",
              "      border-bottom-color: var(--fill-color);\n",
              "    }\n",
              "  }\n",
              "</style>\n",
              "\n",
              "  <script>\n",
              "    async function quickchart(key) {\n",
              "      const quickchartButtonEl =\n",
              "        document.querySelector('#' + key + ' button');\n",
              "      quickchartButtonEl.disabled = true;  // To prevent multiple clicks.\n",
              "      quickchartButtonEl.classList.add('colab-df-spinner');\n",
              "      try {\n",
              "        const charts = await google.colab.kernel.invokeFunction(\n",
              "            'suggestCharts', [key], {});\n",
              "      } catch (error) {\n",
              "        console.error('Error during call to suggestCharts:', error);\n",
              "      }\n",
              "      quickchartButtonEl.classList.remove('colab-df-spinner');\n",
              "      quickchartButtonEl.classList.add('colab-df-quickchart-complete');\n",
              "    }\n",
              "    (() => {\n",
              "      let quickchartButtonEl =\n",
              "        document.querySelector('#df-13975b34-2228-45a4-ad98-c08652ed6fa9 button');\n",
              "      quickchartButtonEl.style.display =\n",
              "        google.colab.kernel.accessAllowed ? 'block' : 'none';\n",
              "    })();\n",
              "  </script>\n",
              "</div>\n",
              "\n",
              "    </div>\n",
              "  </div>\n"
            ],
            "application/vnd.google.colaboratory.intrinsic+json": {
              "type": "dataframe",
              "variable_name": "data",
              "summary": "{\n  \"name\": \"data\",\n  \"rows\": 204,\n  \"fields\": [\n    {\n      \"column\": \"Name\",\n      \"properties\": {\n        \"dtype\": \"string\",\n        \"num_unique_values\": 204,\n        \"samples\": [\n          \"Mr. Ryker Hoppe\",\n          \"Amina Corkery\",\n          \"Jeff Krajcik IV\"\n        ],\n        \"semantic_type\": \"\",\n        \"description\": \"\"\n      }\n    },\n    {\n      \"column\": \"age\",\n      \"properties\": {\n        \"dtype\": \"number\",\n        \"std\": 9,\n        \"min\": 29,\n        \"max\": 77,\n        \"num_unique_values\": 40,\n        \"samples\": [\n          50,\n          56,\n          67\n        ],\n        \"semantic_type\": \"\",\n        \"description\": \"\"\n      }\n    },\n    {\n      \"column\": \"sex\",\n      \"properties\": {\n        \"dtype\": \"number\",\n        \"std\": 0,\n        \"min\": 0,\n        \"max\": 1,\n        \"num_unique_values\": 2,\n        \"samples\": [\n          0,\n          1\n        ],\n        \"semantic_type\": \"\",\n        \"description\": \"\"\n      }\n    },\n    {\n      \"column\": \"cp\",\n      \"properties\": {\n        \"dtype\": \"number\",\n        \"std\": 1,\n        \"min\": 1,\n        \"max\": 4,\n        \"num_unique_values\": 4,\n        \"samples\": [\n          3,\n          2\n        ],\n        \"semantic_type\": \"\",\n        \"description\": \"\"\n      }\n    },\n    {\n      \"column\": \"trtbps\",\n      \"properties\": {\n        \"dtype\": \"number\",\n        \"std\": 18,\n        \"min\": 94,\n        \"max\": 200,\n        \"num_unique_values\": 42,\n        \"samples\": [\n          200,\n          152\n        ],\n        \"semantic_type\": \"\",\n        \"description\": \"\"\n      }\n    },\n    {\n      \"column\": \"chol\",\n      \"properties\": {\n        \"dtype\": \"number\",\n        \"std\": 53,\n        \"min\": 126,\n        \"max\": 564,\n        \"num_unique_values\": 128,\n        \"samples\": [\n          201,\n          289\n        ],\n        \"semantic_type\": \"\",\n        \"description\": \"\"\n      }\n    },\n    {\n      \"column\": \"restecg\",\n      \"properties\": {\n        \"dtype\": \"number\",\n        \"std\": 0,\n        \"min\": 0,\n        \"max\": 2,\n        \"num_unique_values\": 3,\n        \"samples\": [\n          1,\n          0\n        ],\n        \"semantic_type\": \"\",\n        \"description\": \"\"\n      }\n    },\n    {\n      \"column\": \"thalach\",\n      \"properties\": {\n        \"dtype\": \"number\",\n        \"std\": 23,\n        \"min\": 71,\n        \"max\": 202,\n        \"num_unique_values\": 84,\n        \"samples\": [\n          108,\n          160\n        ],\n        \"semantic_type\": \"\",\n        \"description\": \"\"\n      }\n    },\n    {\n      \"column\": \"diagnosis\",\n      \"properties\": {\n        \"dtype\": \"category\",\n        \"num_unique_values\": 2,\n        \"samples\": [\n          \"Disease\",\n          \"No Disease\"\n        ],\n        \"semantic_type\": \"\",\n        \"description\": \"\"\n      }\n    }\n  ]\n}"
            }
          },
          "metadata": {},
          "execution_count": 21
        }
      ],
      "source": [
        "import pandas as pd\n",
        "import numpy as np\n",
        "import matplotlib.pyplot as plt\n",
        "import seaborn as sns\n",
        "from sklearn.linear_model import LogisticRegression\n",
        "from sklearn.preprocessing import StandardScaler\n",
        "from sklearn.discriminant_analysis import LinearDiscriminantAnalysis\n",
        "from sklearn.svm import SVC\n",
        "from sklearn.model_selection import GridSearchCV\n",
        "\n",
        "\n",
        "\n",
        "data = pd.read_csv(\"ha_1.csv\")\n",
        "data = data.dropna()\n",
        "data.head()"
      ]
    },
    {
      "cell_type": "code",
      "source": [
        "X = data[['age', 'chol']]\n",
        "y = data['diagnosis']\n",
        "\n",
        "scaler = StandardScaler()\n",
        "X_scaled = scaler.fit_transform(data[['age', 'chol']])\n",
        "\n",
        "model = LogisticRegression()\n",
        "model.fit(X, y)\n",
        "\n",
        "print(f\"Intercept: {model.intercept_}\")\n",
        "print(f\"Coefficients: {model.coef_}\")"
      ],
      "metadata": {
        "colab": {
          "base_uri": "https://localhost:8080/"
        },
        "id": "5himioSYVjVK",
        "outputId": "f21f57ee-4190-4f57-985e-3c316dc98c81"
      },
      "execution_count": 22,
      "outputs": [
        {
          "output_type": "stream",
          "name": "stdout",
          "text": [
            "Intercept: [-3.24011226]\n",
            "Coefficients: [[0.04686331 0.00180124]]\n"
          ]
        }
      ]
    },
    {
      "cell_type": "code",
      "source": [
        "beta_0 = model.intercept_[0]\n",
        "beta_1, beta_2 = model.coef_[0]\n",
        "\n",
        "age = 55\n",
        "\n",
        "# for P = 0.5\n",
        "chol_threshold_50 = -(beta_0 + beta_1 * age) / beta_2\n",
        "print(f\"Cholesterol threshold for P=0.5 (predicting heart disease): {chol_threshold_50}\")\n",
        "\n",
        "# for P = 0.9\n",
        "P = 0.9\n",
        "log_odds_90 = np.log(P / (1 - P))\n",
        "chol_threshold_90 = (log_odds_90 - beta_0 - beta_1 * age) / beta_2\n",
        "print(f\"Cholesterol threshold for P=0.9 (90% chance of heart disease): {chol_threshold_90}\")"
      ],
      "metadata": {
        "colab": {
          "base_uri": "https://localhost:8080/"
        },
        "id": "wlEy5ssvfgs8",
        "outputId": "b5ab7a9d-1acc-44be-ee7f-c7209137a870"
      },
      "execution_count": 18,
      "outputs": [
        {
          "output_type": "stream",
          "name": "stdout",
          "text": [
            "Cholesterol threshold for P=0.5 (predicting heart disease): 367.87488979860706\n",
            "Cholesterol threshold for P=0.9 (90% chance of heart disease): 1587.7158792752975\n"
          ]
        }
      ]
    },
    {
      "cell_type": "markdown",
      "source": [
        "## 2. Linear Discriminant Analysis\n",
        "\n",
        "Fit an LDA model using only `age` and `chol` (cholesterol)  as predictors.\n",
        "\n",
        "For a 55 year old, how high would their cholesterol need to be for the doctors to predict heart disease is present?"
      ],
      "metadata": {
        "id": "t6Gfcspn9EYy"
      }
    },
    {
      "cell_type": "code",
      "source": [
        "lda = LinearDiscriminantAnalysis()\n",
        "lda.fit(X, y)\n",
        "\n",
        "coefficients = lda.coef_[0]\n",
        "intercept = lda.intercept_[0]\n",
        "\n",
        "print(f\"Coefficients: {coefficients}\")\n",
        "print(f\"Intercept: {intercept}\")\n",
        "\n",
        "age = 55\n",
        "\n",
        "chol_threshold = -(intercept + coefficients[0] * age) / coefficients[1]\n",
        "print(f\"Cholesterol threshold for age 55: {chol_threshold}\")"
      ],
      "metadata": {
        "id": "xEE5FPAs9S29",
        "colab": {
          "base_uri": "https://localhost:8080/"
        },
        "outputId": "eed6971f-ecf1-448a-f7b4-22e8a69e678d"
      },
      "execution_count": 20,
      "outputs": [
        {
          "output_type": "stream",
          "name": "stdout",
          "text": [
            "Coefficients: [0.04655744 0.00178967]\n",
            "Intercept: -3.2196776604068784\n",
            "Cholesterol threshold for age 55: 368.235357529938\n"
          ]
        }
      ]
    },
    {
      "cell_type": "markdown",
      "source": [
        "## 3. Support Vector Classifier\n",
        "\n",
        "Fit an SVC model using only `age` and `chol` as predictors.  Don't forget to tune the regularization parameter.\n",
        "\n",
        "For a 55 year old, how high would their cholesterol need to be for the doctors to predict heart disease is present?"
      ],
      "metadata": {
        "id": "RdRR4Evq9THQ"
      }
    },
    {
      "cell_type": "code",
      "source": [
        "data['diagnosis'] = data['diagnosis'].map({'No Disease': 0, 'Disease': 1})\n",
        "\n",
        "param_grid = {'C': [0.01, 0.1, 1, 10, 100]}\n",
        "svc = SVC(kernel='linear', probability=True)\n",
        "grid = GridSearchCV(svc, param_grid, cv=5)\n",
        "grid.fit(X, y)\n",
        "\n",
        "best_svc = grid.best_estimator_\n",
        "\n",
        "print(f\"Optimal C: {grid.best_params_['C']}\")\n",
        "\n",
        "coef = best_svc.coef_[0]\n",
        "intercept = best_svc.intercept_[0]\n",
        "\n",
        "print(f\"Coefficients: {coef}\")\n",
        "print(f\"Intercept: {intercept}\")\n",
        "\n",
        "age = 55\n",
        "\n",
        "chol_threshold = -(intercept + coef[0] * age) / coef[1]\n",
        "print(f\"Cholesterol threshold for age 55: {chol_threshold}\")"
      ],
      "metadata": {
        "id": "QM0zJ8JN9XS9",
        "colab": {
          "base_uri": "https://localhost:8080/"
        },
        "outputId": "4f9a29ef-e77f-4f78-821b-48b7b264e349"
      },
      "execution_count": 23,
      "outputs": [
        {
          "output_type": "stream",
          "name": "stdout",
          "text": [
            "Optimal C: 0.1\n",
            "Coefficients: [0.06439804 0.00366067]\n",
            "Intercept: -4.686550429743357\n",
            "Cholesterol threshold for age 55: 312.69049430633044\n"
          ]
        }
      ]
    },
    {
      "cell_type": "markdown",
      "source": [
        "## 4. Comparing Decision Boundaries\n",
        "\n",
        "Make a scatterplot of `age` and `chol`, coloring the points by their true disease outcome.  Add a line to the plot representing the **linear separator** (aka **decision boundary**) for each of the three models above."
      ],
      "metadata": {
        "id": "badaMBzw-MsM"
      }
    },
    {
      "cell_type": "code",
      "source": [
        "plt.figure(figsize=(10, 6))\n",
        "sns.scatterplot(data=data, x='age', y='chol', hue='diagnosis', palette={0: 'blue', 1: 'red'}, style='diagnosis')\n",
        "\n",
        "# 1. Logistic Regression\n",
        "beta_0 = model.intercept_[0]\n",
        "beta_1, beta_2 = model.coef_[0]\n",
        "age_vals = np.linspace(data['age'].min(), data['age'].max(), 100)\n",
        "chol_vals_logreg = -(beta_0 + beta_1 * age_vals) / beta_2\n",
        "plt.plot(age_vals, chol_vals_logreg, label='Logistic Regression Boundary', color='black')\n",
        "\n",
        "# 2. LDA\n",
        "coef_lda = lda.coef_[0]\n",
        "intercept_lda = lda.intercept_[0]\n",
        "chol_vals_lda = -(intercept_lda + coef_lda[0] * age_vals) / coef_lda[1]\n",
        "plt.plot(age_vals, chol_vals_lda, label='LDA Boundary', color='green')\n",
        "\n",
        "# 3. SVC\n",
        "coef_svc = best_svc.coef_[0]\n",
        "intercept_svc = best_svc.intercept_[0]\n",
        "chol_vals_svc = -(intercept_svc + coef_svc[0] * age_vals) / coef_svc[1]\n",
        "plt.plot(age_vals, chol_vals_svc, label='SVC Boundary', color='orange')\n",
        "\n",
        "plt.xlabel('Age')\n",
        "plt.ylabel('Cholesterol')\n",
        "plt.title('Age vs. Cholesterol with Decision Boundaries')\n",
        "plt.legend()\n",
        "\n",
        "plt.show()"
      ],
      "metadata": {
        "id": "vVZJwn9s-enf",
        "colab": {
          "base_uri": "https://localhost:8080/",
          "height": 564
        },
        "outputId": "670b5b55-6bc4-4e6e-9fdc-a0b337ef912e"
      },
      "execution_count": 24,
      "outputs": [
        {
          "output_type": "display_data",
          "data": {
            "text/plain": [
              "<Figure size 1000x600 with 1 Axes>"
            ],
            "image/png": "[encoded data removed]"
          },
          "metadata": {}
        }
      ]
    }
  ]
}