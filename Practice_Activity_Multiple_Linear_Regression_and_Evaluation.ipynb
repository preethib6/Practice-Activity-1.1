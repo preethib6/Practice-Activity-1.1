{
  "nbformat": 4,
  "nbformat_minor": 0,
  "metadata": {
    "colab": {
      "provenance": []
    },
    "kernelspec": {
      "name": "python3",
      "display_name": "Python 3"
    },
    "language_info": {
      "name": "python"
    }
  },
  "cells": [
    {
      "cell_type": "markdown",
      "source": [
        "# Palmer Penguins Modeling\n",
        "\n",
        "Import the Palmer Penguins dataset and print out the first few rows.\n",
        "\n",
        "Suppose we want to predict `bill_depth_mm` using the other variables in the dataset.\n",
        "\n",
        "**Dummify** all variables that require this."
      ],
      "metadata": {
        "id": "FdLoheP-mrxn"
      }
    },
    {
      "cell_type": "code",
      "execution_count": 89,
      "metadata": {
        "id": "N5lG475yllju"
      },
      "outputs": [],
      "source": [
        "from palmerpenguins import load_penguins\n",
        "penguins = load_penguins()\n",
        "\n",
        "import pandas as pd\n",
        "import numpy as np\n",
        "import matplotlib.pyplot as plt\n",
        "import seaborn as sns\n",
        "import sklearn\n",
        "\n",
        "from sklearn.model_selection import train_test_split\n",
        "from sklearn.metrics import mean_squared_error, r2_score\n",
        "from sklearn.preprocessing import PolynomialFeatures\n",
        "from sklearn.linear_model import LinearRegression\n",
        "from sklearn.preprocessing import StandardScaler\n",
        "\n",
        "\n",
        "from plotnine import *\n",
        "penguins = penguins.dropna()\n",
        "\n"
      ]
    },
    {
      "cell_type": "markdown",
      "source": [
        "Let's use the other variables to predict `bill_depth_mm`. Prepare your data and fit the following models on a training dataset subset of the entire dataset:\n",
        "\n",
        "* Four different models, each containing a different set of predictor variables\n",
        "\n",
        "Create a plot like the right plot of Fig 1. in our `Model Validation` chapter with the training and test error plotted for each of your four models.\n",
        "\n",
        "Which of your models was best?"
      ],
      "metadata": {
        "id": "TT1MVgaKm_gX"
      }
    },
    {
      "cell_type": "code",
      "source": [
        "#Model 1, Simple Regression, Predictor Vars = sex, bill_length_mm\n",
        "penguins['sex_dummy'] = penguins['sex'].map({'female': 1, 'male': 0})\n",
        "\n",
        "X = penguins[['sex_dummy', 'bill_length_mm']]\n",
        "y = penguins['bill_depth_mm']\n",
        "\n",
        "X_train, X_test, y_train, y_test = train_test_split(X, y, test_size=0.25, random_state=42)\n",
        "\n",
        "model = LinearRegression()\n",
        "model.fit(X_train, y_train)\n",
        "\n",
        "y_train_pred = model.predict(X_train)\n",
        "y_test_pred = model.predict(X_test)\n",
        "\n",
        "train_1 = mean_squared_error(y_train, y_train_pred, squared=False)\n",
        "test_1 = mean_squared_error(y_test, y_test_pred, squared=False)\n",
        "train_r2 = r2_score(y_train, y_train_pred)\n",
        "test_r2 = r2_score(y_test, y_test_pred)\n",
        "\n",
        "print(\"Training 1:\", train_1)\n",
        "print(\"Test 1:\", test_1)\n",
        "print(\"Training R-squared:\", train_r2)\n",
        "print(\"Test R-squared:\", test_r2)"
      ],
      "metadata": {
        "id": "M6f7JWZTm6tn",
        "colab": {
          "base_uri": "https://localhost:8080/"
        },
        "outputId": "d0ee7679-5385-428e-f00b-ad337a3525e3"
      },
      "execution_count": 82,
      "outputs": [
        {
          "output_type": "stream",
          "name": "stdout",
          "text": [
            "Training 1: 1.676209150587061\n",
            "Test 1: 1.6438278679204958\n",
            "Training R-squared: 0.27168026815764434\n",
            "Test R-squared: 0.28149022377409827\n"
          ]
        },
        {
          "output_type": "stream",
          "name": "stderr",
          "text": [
            "/usr/local/lib/python3.10/dist-packages/sklearn/metrics/_regression.py:492: FutureWarning: 'squared' is deprecated in version 1.4 and will be removed in 1.6. To calculate the root mean squared error, use the function'root_mean_squared_error'.\n",
            "/usr/local/lib/python3.10/dist-packages/sklearn/metrics/_regression.py:492: FutureWarning: 'squared' is deprecated in version 1.4 and will be removed in 1.6. To calculate the root mean squared error, use the function'root_mean_squared_error'.\n"
          ]
        }
      ]
    },
    {
      "cell_type": "code",
      "source": [
        "#Model 2, Quadratic Model, Predictor vars = island, flipper_length_mm\n",
        "\n",
        "penguins_dummies = pd.get_dummies(penguins, columns=['island'], drop_first=True)\n",
        "\n",
        "penguins_dummies['island_Dream'] = penguins_dummies['island_Dream'].astype(int)\n",
        "penguins_dummies['island_Torgersen'] = penguins_dummies['island_Torgersen'].astype(int)\n",
        "\n",
        "X = penguins_dummies[['island_Dream', 'island_Torgersen', 'flipper_length_mm']]\n",
        "y = penguins['bill_depth_mm']\n",
        "\n",
        "X_train, X_test, y_train, y_test = train_test_split(X, y, test_size=0.25, random_state=42)\n",
        "\n",
        "poly = PolynomialFeatures(degree=2)\n",
        "X_train_poly = poly.fit_transform(X_train)\n",
        "X_test_poly = poly.transform(X_test)\n",
        "\n",
        "model = LinearRegression()\n",
        "model.fit(X_train_poly, y_train)\n",
        "\n",
        "y_train_pred = model.predict(X_train_poly)\n",
        "y_test_pred = model.predict(X_test_poly)\n",
        "\n",
        "train_2 = mean_squared_error(y_train, y_train_pred, squared=False)\n",
        "test_2 = mean_squared_error(y_test, y_test_pred, squared=False)\n",
        "train_r2 = r2_score(y_train, y_train_pred)\n",
        "test_r2 = r2_score(y_test, y_test_pred)\n",
        "\n",
        "# Output results\n",
        "print(\"Training 2:\", train_2)\n",
        "print(\"Test 2:\", test_2)\n",
        "print(\"Training R-squared:\", train_r2)\n",
        "print(\"Test R-squared:\", test_r2)"
      ],
      "metadata": {
        "colab": {
          "base_uri": "https://localhost:8080/"
        },
        "id": "5AcGndy_wwR_",
        "outputId": "675a0814-609e-4dfb-d4e1-a12197e4c02c"
      },
      "execution_count": 83,
      "outputs": [
        {
          "output_type": "stream",
          "name": "stdout",
          "text": [
            "Training 2: 1.1941579494939707\n",
            "Test 2: 1.329402154373449\n",
            "Training R-squared: 0.6303512772346607\n",
            "Test R-squared: 0.5300704441255385\n"
          ]
        },
        {
          "output_type": "stream",
          "name": "stderr",
          "text": [
            "/usr/local/lib/python3.10/dist-packages/sklearn/metrics/_regression.py:492: FutureWarning: 'squared' is deprecated in version 1.4 and will be removed in 1.6. To calculate the root mean squared error, use the function'root_mean_squared_error'.\n",
            "/usr/local/lib/python3.10/dist-packages/sklearn/metrics/_regression.py:492: FutureWarning: 'squared' is deprecated in version 1.4 and will be removed in 1.6. To calculate the root mean squared error, use the function'root_mean_squared_error'.\n"
          ]
        }
      ]
    },
    {
      "cell_type": "code",
      "source": [
        "#Model 3, 5 degree polynomial model, Predictor vars: Species, body_mass_g\n",
        "\n",
        "penguins_dummies = pd.get_dummies(penguins, columns=['species'], drop_first=True)\n",
        "\n",
        "penguins_dummies['species_Chinstrap'] = penguins_dummies['species_Chinstrap'].astype(int)\n",
        "penguins_dummies['species_Gentoo'] = penguins_dummies['species_Gentoo'].astype(int)\n",
        "\n",
        "scaler = StandardScaler()\n",
        "\n",
        "penguins_dummies['body_mass_standardized'] = scaler.fit_transform(penguins[['body_mass_g']])\n",
        "\n",
        "X = penguins_dummies[['species_Chinstrap', 'species_Gentoo', 'body_mass_standardized']]\n",
        "y = penguins['bill_depth_mm']\n",
        "\n",
        "X_train, X_test, y_train, y_test = train_test_split(X, y, test_size=0.25, random_state=42)\n",
        "\n",
        "poly = PolynomialFeatures(degree=5)\n",
        "X_train_poly = poly.fit_transform(X_train)\n",
        "X_test_poly = poly.transform(X_test)\n",
        "\n",
        "model = LinearRegression()\n",
        "model.fit(X_train_poly, y_train)\n",
        "\n",
        "y_train_pred = model.predict(X_train_poly)\n",
        "y_test_pred = model.predict(X_test_poly)\n",
        "\n",
        "train_3 = mean_squared_error(y_train, y_train_pred, squared=False)\n",
        "test_3 = mean_squared_error(y_test, y_test_pred, squared=False)\n",
        "train_r2 = r2_score(y_train, y_train_pred)\n",
        "test_r2 = r2_score(y_test, y_test_pred)\n",
        "\n",
        "# Output\n",
        "print(\"Training 3:\", train_3)\n",
        "print(\"Test 3:\", test_3)\n",
        "print(\"Training R-squared:\", train_r2)\n",
        "print(\"Test R-squared:\", test_r2)"
      ],
      "metadata": {
        "colab": {
          "base_uri": "https://localhost:8080/"
        },
        "id": "N9g2xSrf18E2",
        "outputId": "39f8205b-4bdf-44f0-a5fb-470e12393229"
      },
      "execution_count": 84,
      "outputs": [
        {
          "output_type": "stream",
          "name": "stdout",
          "text": [
            "Training 3: 0.8293780605003614\n",
            "Test 3: 0.9976919560883472\n",
            "Training R-squared: 0.8216920334018032\n",
            "Test R-squared: 0.735324985534797\n"
          ]
        },
        {
          "output_type": "stream",
          "name": "stderr",
          "text": [
            "/usr/local/lib/python3.10/dist-packages/sklearn/metrics/_regression.py:492: FutureWarning: 'squared' is deprecated in version 1.4 and will be removed in 1.6. To calculate the root mean squared error, use the function'root_mean_squared_error'.\n",
            "/usr/local/lib/python3.10/dist-packages/sklearn/metrics/_regression.py:492: FutureWarning: 'squared' is deprecated in version 1.4 and will be removed in 1.6. To calculate the root mean squared error, use the function'root_mean_squared_error'.\n"
          ]
        }
      ]
    },
    {
      "cell_type": "code",
      "source": [
        "#Model 4, 10 degree polynomial model, Predictor vars: Species, body_mass_g, flipper_length_mm\n",
        "X = penguins_dummies[['species_Chinstrap','species_Gentoo', 'flipper_length_mm']]\n",
        "y = penguins['bill_depth_mm']\n",
        "\n",
        "X_train, X_test, y_train, y_test = train_test_split(X, y, test_size=0.25, random_state=42)\n",
        "\n",
        "poly = PolynomialFeatures(degree=10)\n",
        "X_train_poly = poly.fit_transform(X_train)\n",
        "X_test_poly = poly.transform(X_test)\n",
        "\n",
        "model = LinearRegression()\n",
        "model.fit(X_train_poly, y_train)\n",
        "\n",
        "y_train_pred = model.predict(X_train_poly)\n",
        "y_test_pred = model.predict(X_test_poly)\n",
        "\n",
        "train_4 = mean_squared_error(y_train, y_train_pred, squared=False)\n",
        "test_4 = mean_squared_error(y_test, y_test_pred, squared=False)\n",
        "train_r2 = r2_score(y_train, y_train_pred)\n",
        "test_r2 = r2_score(y_test, y_test_pred)\n",
        "\n",
        "# Output\n",
        "print(\"Training 4:\", train_4)\n",
        "print(\"Test 4:\", test_4)\n",
        "print(\"Training R-squared:\", train_r2)\n",
        "print(\"Test R-squared:\", test_r2)"
      ],
      "metadata": {
        "colab": {
          "base_uri": "https://localhost:8080/"
        },
        "id": "a0JXP1ae3dZQ",
        "outputId": "1362095f-2f2f-4f60-feaf-459712390d6e"
      },
      "execution_count": 85,
      "outputs": [
        {
          "output_type": "stream",
          "name": "stdout",
          "text": [
            "Training 4: 0.9534824401559819\n",
            "Test 4: 1.0401263362141009\n",
            "Training R-squared: 0.7643371854058953\n",
            "Test R-squared: 0.7123315787406103\n"
          ]
        },
        {
          "output_type": "stream",
          "name": "stderr",
          "text": [
            "/usr/local/lib/python3.10/dist-packages/sklearn/metrics/_regression.py:492: FutureWarning: 'squared' is deprecated in version 1.4 and will be removed in 1.6. To calculate the root mean squared error, use the function'root_mean_squared_error'.\n",
            "/usr/local/lib/python3.10/dist-packages/sklearn/metrics/_regression.py:492: FutureWarning: 'squared' is deprecated in version 1.4 and will be removed in 1.6. To calculate the root mean squared error, use the function'root_mean_squared_error'.\n"
          ]
        }
      ]
    },
    {
      "cell_type": "code",
      "source": [
        "import matplotlib.pyplot as plt\n",
        "\n",
        "train_rmse_values = [train_1, train_2, train_3, train_4]\n",
        "test_rmse_values = [test_1, test_2, test_3, test_4]\n",
        "\n",
        "num_predictors = [1, 2, 5, 10]\n",
        "\n",
        "plt.figure(figsize=(10, 6))\n",
        "plt.plot(num_predictors, test_rmse_values, marker='o', linestyle='-', color='b', label='Test RMSE')\n",
        "plt.plot(num_predictors, train_rmse_values, marker='o', linestyle='-', color='c', label='Train RMSE')\n",
        "plt.title('Test and Train RMSE vs. Flexibility (Number of Predictor Variables)')\n",
        "plt.xlabel('Number of Predictor Variables (Flexibility)')\n",
        "plt.ylabel('RMSE')\n",
        "plt.xticks(num_predictors)\n",
        "plt.grid()\n",
        "plt.legend()\n",
        "plt.show()"
      ],
      "metadata": {
        "colab": {
          "base_uri": "https://localhost:8080/",
          "height": 564
        },
        "id": "9URz6GA96sgZ",
        "outputId": "d98a66d7-45d4-44ec-f433-f5ab9fe730f2"
      },
      "execution_count": 88,
      "outputs": [
        {
          "output_type": "display_data",
          "data": {
            "text/plain": [
              "<Figure size 1000x600 with 1 Axes>"
            ],
            "image/png": "[encoded data removed]"
          },
          "metadata": {}
        }
      ]
    },
    {
      "cell_type": "markdown",
      "source": [
        "My best model would be my 10-degree polynomial--it has the lowest errors and a relatively small gap between its test and train RMSE's. It also has the 2nd highest r-squared numbers of all my models."
      ],
      "metadata": {
        "id": "8kqln2FB8Ckv"
      }
    }
  ]
}